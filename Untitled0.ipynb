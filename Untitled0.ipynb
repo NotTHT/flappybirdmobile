{
  "nbformat": 4,
  "nbformat_minor": 0,
  "metadata": {
    "colab": {
      "provenance": [],
      "authorship_tag": "ABX9TyPDkF29geQpJh5ifjLreK3J"
    },
    "kernelspec": {
      "name": "python3",
      "display_name": "Python 3"
    },
    "language_info": {
      "name": "python"
    }
  },
  "cells": [
    {
      "cell_type": "code",
      "execution_count": 5,
      "metadata": {
        "colab": {
          "base_uri": "https://localhost:8080/"
        },
        "id": "lERT0Z_hpxoL",
        "outputId": "282c5336-874c-4aa8-e18b-43646f847fa5"
      },
      "outputs": [
        {
          "output_type": "stream",
          "name": "stdout",
          "text": [
            "Calculation complete. The first 1 million digits of pi have been saved to 'pi_1million_digits.txt'.\n"
          ]
        }
      ],
      "source": [
        "from mpmath import mp\n",
        "\n",
        "def compute_pi(digits=1000000):\n",
        "    \"\"\"\n",
        "    Compute pi to the specified number of digits using the Chudnovsky algorithm.\n",
        "    \"\"\"\n",
        "    mp.dps = digits  # Set decimal places\n",
        "    return str(mp.pi)\n",
        "\n",
        "if __name__ == \"__main__\":\n",
        "    digits_of_pi = compute_pi()\n",
        "    with open(\"pi_1million_digits.txt\", \"w\") as f:\n",
        "        f.write(digits_of_pi)\n",
        "    print(\"Calculation complete. The first 1 million digits of pi have been saved to 'pi_1million_digits.txt'.\")\n"
      ]
    }
  ]
}